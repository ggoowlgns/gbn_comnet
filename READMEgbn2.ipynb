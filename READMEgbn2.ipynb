{
 "cells": [
  {
   "cell_type": "markdown",
   "metadata": {},
   "source": [
    "# Seq and PacketBuffer class"
   ]
  },
  {
   "cell_type": "markdown",
   "metadata": {},
   "source": [
    "## Seq class implementation changed\n",
    "#### Addition and Subtraction\n",
    "```Python\n",
    "seq + n     # forward n steps\n",
    "seq - n     # backward n steps\n",
    "seq1 + seq2 # TypeError\n",
    "```\n",
    "#### Distance from a Seq object to the other Seq object\n",
    "```Python\n",
    "distance(seq1, seq2)  # returns int type\n",
    "```"
   ]
  },
  {
   "cell_type": "code",
   "execution_count": 2,
   "metadata": {},
   "outputs": [
    {
     "name": "stdout",
     "output_type": "stream",
     "text": [
      "base: Seq(253) nextseqnum: Seq(2)\n",
      "-5\n",
      "5\n",
      "Seq(253)\n"
     ]
    }
   ],
   "source": [
    "from packet import *\n",
    "\n",
    "base = Seq(253)\n",
    "nextseqnum = Seq(2)\n",
    "print('base:', base, 'nextseqnum:', nextseqnum)\n",
    "print(base.distance(nextseqnum))\n",
    "print(nextseqnum.distance(base))\n",
    "print(nextseqnum - 5)"
   ]
  },
  {
   "cell_type": "markdown",
   "metadata": {},
   "source": [
    "## PacketBuffer"
   ]
  },
  {
   "cell_type": "code",
   "execution_count": 3,
   "metadata": {
    "scrolled": true
   },
   "outputs": [
    {
     "name": "stdout",
     "output_type": "stream",
     "text": [
      "Help on class PacketBuffer in module packet:\n",
      "\n",
      "class PacketBuffer(builtins.object)\n",
      " |  PacketBuffer(gbn, bufsize)\n",
      " |  \n",
      " |  Packet buffers indexed by Seq bumber for GBNsend's send buffer or GBNrecv's receive buffer\n",
      " |  Note: for indexing, gbn.base attribute is used.\n",
      " |      popfron method updates gbn.base variable\n",
      " |  \n",
      " |  Methods defined here:\n",
      " |  \n",
      " |  __getitem__(self, seq)\n",
      " |      # support indexing. e.g) sndpkt[Seq(5)]\n",
      " |  \n",
      " |  __init__(self, gbn, bufsize)\n",
      " |      Packet buffer for GBNsend's send buffer or GBNrecv's receive buffer\n",
      " |      :param gbn: GBNsend or GBNrecv object\n",
      " |      :param bufsize: number of pacekt cells in the buffer\n",
      " |  \n",
      " |  __setitem__(self, seq, item)\n",
      " |  \n",
      " |  __str__(self)\n",
      " |      Return str(self).\n",
      " |  \n",
      " |  find_hole(self)\n",
      " |      Find the seq. of first hole in the buffer\n",
      " |      \n",
      " |      :return: seq if hole found\n",
      " |               next seq of the last packet, if no hole\n",
      " |  \n",
      " |  popfront(self)\n",
      " |      pop from front. Note: gbn.base will be modified\n",
      " |  \n",
      " |  ----------------------------------------------------------------------\n",
      " |  Data descriptors defined here:\n",
      " |  \n",
      " |  __dict__\n",
      " |      dictionary for instance variables (if defined)\n",
      " |  \n",
      " |  __weakref__\n",
      " |      list of weak references to the object (if defined)\n",
      "\n"
     ]
    }
   ],
   "source": [
    "help(PacketBuffer)"
   ]
  },
  {
   "cell_type": "markdown",
   "metadata": {},
   "source": [
    "### GBN receiving side   - TCP-like N 개 packet buffer 버전\n",
    "N개까지의 packet들을 저장할 수 있는 packet buffer를 갖는 경우로 확장해 보자.\n",
    "\n",
    "GBNrecv는 Rcv_DATA event를 받고 seqnum이 유효한 범위이면(즉, self.base <= seqnum < self.base + N),\n",
    "받아서 저장한다. 아니면, ignore.\n",
    "#### Saving DATA packets"
   ]
  },
  {
   "cell_type": "code",
   "execution_count": 10,
   "metadata": {},
   "outputs": [
    {
     "name": "stdout",
     "output_type": "stream",
     "text": [
      "Seq(253)\n",
      "[Seq(253), Seq(254), None, Seq(0), Seq(1), None, None, None]\n"
     ]
    }
   ],
   "source": [
    "N =8\n",
    "DATA = 1\n",
    "ACK = 2\n",
    "\n",
    "class GBNrecv:\n",
    "    def __init__(self):\n",
    "        self.base = Seq(0)\n",
    "        self.expected_seqnum = Seq(0)\n",
    "        self.rcvpkt = PacketBuffer(self, N)\n",
    "            \n",
    "gbnrecv = GBNrecv()\n",
    "gbnrecv.base = gbnrecv.expected_seqnum = Seq(253)\n",
    "\n",
    "# Receiving DATA packets\n",
    "data = b'Hello, world!!'\n",
    "for seq in [Seq(253), Seq(0), Seq(1), Seq(254)]:\n",
    "    pkt = make_pkt(seq, DATA, data)\n",
    "    gbnrecv.rcvpkt[get_seqnum(pkt)] = pkt\n",
    "\n",
    "print(gbnrecv.base)\n",
    "print(gbnrecv.rcvpkt)"
   ]
  },
  {
   "cell_type": "markdown",
   "metadata": {},
   "source": [
    "#### Finding ACK number\n",
    "생성해야 하는 ACK number는 receive buffer에 순서에 맞는 packet 번호의 다음 번호, 즉, 비어있는 packet 공간에 대한 seqnum로 ACK packet을 생성하여 feedback하면 된다. (Cummulative ACK임을 기억하자. 즉, 빈 공간 없이 순서에 맞게 도착했음을 알려야 한다.)"
   ]
  },
  {
   "cell_type": "code",
   "execution_count": 11,
   "metadata": {},
   "outputs": [
    {
     "name": "stdout",
     "output_type": "stream",
     "text": [
      "ACK 255\n"
     ]
    }
   ],
   "source": [
    "gbnrecv.expected_seqnum = gbnrecv.rcvpkt.find_hole()\n",
    "print('ACK', int(gbnrecv.expected_seqnum))"
   ]
  },
  {
   "cell_type": "markdown",
   "metadata": {},
   "source": [
    "#### Delivering data in order\n",
    "Receive buffer에 저장된 packet 중에서 순서에 맞는(중간에 hole이 없는) 것을 pop 하고, data를 deliver한다."
   ]
  },
  {
   "cell_type": "code",
   "execution_count": 13,
   "metadata": {},
   "outputs": [
    {
     "name": "stdout",
     "output_type": "stream",
     "text": [
      "Seq(255) Seq(255)\n",
      "[None, Seq(0), Seq(1), None, None, None, None, None]\n"
     ]
    }
   ],
   "source": [
    "base = gbnrecv.base\n",
    "for seq in srange(base, gbnrecv.expected_seqnum):\n",
    "    pkt = gbnrecv.rcvpkt.popfront()   # pop and remove front. gbnrecv.base will increase\n",
    "    data = extract(pkt)\n",
    "    print('deliver:', data)\n",
    "print(gbnrecv.base, gbnrecv.expected_seqnum)\n",
    "print(gbnrecv.rcvpkt)"
   ]
  },
  {
   "cell_type": "code",
   "execution_count": null,
   "metadata": {},
   "outputs": [],
   "source": []
  }
 ],
 "metadata": {
  "kernelspec": {
   "display_name": "Python 3",
   "language": "python",
   "name": "python3"
  },
  "language_info": {
   "codemirror_mode": {
    "name": "ipython",
    "version": 3
   },
   "file_extension": ".py",
   "mimetype": "text/x-python",
   "name": "python",
   "nbconvert_exporter": "python",
   "pygments_lexer": "ipython3",
   "version": "3.7.0"
  }
 },
 "nbformat": 4,
 "nbformat_minor": 2
}
